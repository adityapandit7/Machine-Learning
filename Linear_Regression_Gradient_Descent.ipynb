{
  "cells": [
    {
      "cell_type": "markdown",
      "metadata": {
        "colab_type": "text",
        "id": "view-in-github"
      },
      "source": [
        "<a href=\"https://colab.research.google.com/github/Kabindra02/Machine-Learning/blob/main/linear_Regression_gradient_descent.ipynb\" target=\"_parent\"><img src=\"https://colab.research.google.com/assets/colab-badge.svg\" alt=\"Open In Colab\"/></a>"
      ]
    },
    {
      "cell_type": "code",
      "execution_count": 1,
      "metadata": {
        "colab": {
          "base_uri": "https://localhost:8080/"
        },
        "id": "bZBdozVmir2m",
        "outputId": "3f4cab1c-6b3a-41fb-8d51-01ccf9168522"
      },
      "outputs": [
        {
          "name": "stdout",
          "output_type": "stream",
          "text": [
            "Features:  ['age', 'sex', 'bmi', 'bp', 's1', 's2', 's3', 's4', 's5', 's6']\n"
          ]
        }
      ],
      "source": [
        "from sklearn.datasets import load_diabetes\n",
        "\n",
        "diabetes = load_diabetes()\n",
        "\n",
        "print(\"Features: \", diabetes.feature_names)"
      ]
    },
    {
      "cell_type": "code",
      "execution_count": 2,
      "metadata": {
        "colab": {
          "base_uri": "https://localhost:8080/"
        },
        "id": "g1rQFUP5kGRo",
        "outputId": "cd165c8a-cfc1-42be-85b2-bc8b349f95b7"
      },
      "outputs": [
        {
          "name": "stdout",
          "output_type": "stream",
          "text": [
            "442 10\n"
          ]
        }
      ],
      "source": [
        "X = diabetes.data\n",
        "X.shape #number of samples, number of features\n",
        "\n",
        "m = X.shape[0]  #number of samples\n",
        "n = X.shape[1]  #number of features\n",
        "\n",
        "print(m, n)"
      ]
    },
    {
      "cell_type": "code",
      "execution_count": 3,
      "metadata": {
        "id": "d2cVVQsukYAv"
      },
      "outputs": [],
      "source": [
        "y= diabetes.target"
      ]
    },
    {
      "cell_type": "code",
      "execution_count": 4,
      "metadata": {
        "id": "kuAbenXDkiX8"
      },
      "outputs": [],
      "source": [
        "assert m == y.shape[0]"
      ]
    },
    {
      "cell_type": "code",
      "execution_count": 5,
      "metadata": {
        "id": "pIiZyNallSMz"
      },
      "outputs": [],
      "source": [
        "from sklearn.model_selection import train_test_split\n",
        "\n",
        "X_train, X_test, y_train, y_test = train_test_split(X, y, test_size=0.3)\n",
        "\n",
        "assert len(X_train)  == len(y_train)\n",
        "assert len(X_test)   == len(y_test)"
      ]
    },
    {
      "cell_type": "code",
      "execution_count": 6,
      "metadata": {
        "id": "nKoX9aCOmaJa"
      },
      "outputs": [],
      "source": [
        "from sklearn.preprocessing import StandardScaler\n",
        "scaler = StandardScaler()\n",
        "\n",
        "X_train = scaler.fit_transform(X_train)\n",
        "X_test = scaler.transform(X_test)"
      ]
    },
    {
      "cell_type": "code",
      "execution_count": 7,
      "metadata": {
        "id": "s60053TvmoVt"
      },
      "outputs": [],
      "source": [
        "import numpy as np\n",
        "intercept = np.ones((X_train.shape[0], 1))\n",
        "\n",
        "# concatenate the intercept based on axis=1\n",
        "X_train = np.concatenate((intercept, X_train), axis=1)\n",
        "\n",
        "# np.ones((shape))\n",
        "intercept = np.ones((X_test.shape[0], 1))\n",
        "\n",
        "# concatenate the intercept based on axis=1\n",
        "X_test = np.concatenate((intercept, X_test), axis=1)"
      ]
    },
    {
      "cell_type": "code",
      "execution_count": 8,
      "metadata": {
        "colab": {
          "base_uri": "https://localhost:8080/"
        },
        "id": "44mk-Dfamuy0",
        "outputId": "c85a2e20-5328-4fc2-e53a-2f2eb745df42"
      },
      "outputs": [
        {
          "data": {
            "text/plain": [
              "array([154.55987055,   0.8813288 , -11.74327298,  21.66310601,\n",
              "        18.95031351, -28.04105024,  21.1165595 ,  -2.91272396,\n",
              "        -1.33252463,  34.88607819,   1.86862814])"
            ]
          },
          "execution_count": 8,
          "metadata": {},
          "output_type": "execute_result"
        }
      ],
      "source": [
        "from time import time\n",
        "assert X_train.shape[0] == y_train.shape[0]\n",
        "theta = np.zeros(X_train.shape[1])\n",
        "lr = 0.1\n",
        "\n",
        "max_iter = 5000\n",
        "\n",
        "def h_theta(X, theta):\n",
        "    return X @ theta\n",
        "\n",
        "def mse(yhat, y):\n",
        "    return ((yhat - y)**2).sum() / yhat.shape[0]\n",
        "\n",
        "def gradient(X, error):\n",
        "    m = X.shape[0]\n",
        "    return (X.T @ error) / X.shape[0]\n",
        "\n",
        "start = time()\n",
        "\n",
        "# define your for loop\n",
        "for i in range(max_iter):\n",
        "  yhat = h_theta(X_train, theta)\n",
        "  error = yhat - y_train\n",
        "  grad = gradient(X_train, error)\n",
        "  theta = theta - lr * grad\n",
        "time_taken = time() - start\n",
        "theta\n"
      ]
    },
    {
      "cell_type": "code",
      "execution_count": 9,
      "metadata": {
        "colab": {
          "base_uri": "https://localhost:8080/"
        },
        "id": "7BHimb22nqTd",
        "outputId": "a3ca59e9-19e1-4a94-d257-e595a556115c"
      },
      "outputs": [
        {
          "name": "stdout",
          "output_type": "stream",
          "text": [
            "MSE:  2733.319552096759\n",
            "Time used:  0.040873050689697266\n"
          ]
        }
      ],
      "source": [
        "yhat = h_theta(X_test, theta)\n",
        "\n",
        "# 2. Calculate mean squared errors\n",
        "mse = mse(yhat, y_test)\n",
        "\n",
        "# print the mse\n",
        "print(\"MSE: \", mse)\n",
        "print(\"Time used: \", time_taken)"
      ]
    },
    {
      "cell_type": "code",
      "execution_count": 10,
      "metadata": {
        "colab": {
          "base_uri": "https://localhost:8080/",
          "height": 471
        },
        "id": "dfmfc1gpoJlL",
        "outputId": "ddb7d354-d450-4bf1-f966-100d077b88db"
      },
      "outputs": [
        {
          "data": {
            "image/png": "[encoded data removed]",
            "text/plain": [
              "<Figure size 500x500 with 1 Axes>"
            ]
          },
          "metadata": {},
          "output_type": "display_data"
        }
      ],
      "source": [
        "import matplotlib.pyplot as plt\n",
        "\n",
        "plt.figure(figsize=(5,5))\n",
        "plt.scatter(y_test, yhat, c='crimson')\n",
        "\n",
        "p1 = max(max(yhat), max(y_test))\n",
        "p2 = min(min(yhat), min(y_test))\n",
        "plt.plot([p1, p2], [p1, p2], 'b-')\n",
        "plt.xlabel('True Values', fontsize=15)\n",
        "plt.ylabel('Predictions', fontsize=15)\n",
        "plt.axis('equal')\n",
        "plt.show()"
      ]
    }
  ],
  "metadata": {
    "colab": {
      "authorship_tag": "ABX9TyPEuGHfBBZcsG/MjtjssHga",
      "include_colab_link": true,
      "provenance": []
    },
    "kernelspec": {
      "display_name": "Python 3",
      "name": "python3"
    },
    "language_info": {
      "codemirror_mode": {
        "name": "ipython",
        "version": 3
      },
      "file_extension": ".py",
      "mimetype": "text/x-python",
      "name": "python",
      "nbconvert_exporter": "python",
      "pygments_lexer": "ipython3",
      "version": "3.12.4"
    }
  },
  "nbformat": 4,
  "nbformat_minor": 0
}
